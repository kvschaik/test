{
 "cells": [
  {
   "cell_type": "code",
   "execution_count": 1,
   "metadata": {},
   "outputs": [],
   "source": [
    "calories = 42\n",
    "fat = 0\n",
    "carbs = 10.6\n",
    "sugar = 10.6\n"
   ]
  },
  {
   "cell_type": "code",
   "execution_count": 2,
   "metadata": {},
   "outputs": [],
   "source": [
    "ml = input(\"how much ml did you drink?\")"
   ]
  },
  {
   "cell_type": "code",
   "execution_count": 3,
   "metadata": {},
   "outputs": [],
   "source": [
    "caloriesnew = 42 / 100 * int(ml)\n",
    "fatnew = fat / 100 * int(ml)\n",
    "caloriesnew = calories / 100 * int(ml)\n",
    "carbsnew = carbs / 100 * int(ml)"
   ]
  },
  {
   "cell_type": "code",
   "execution_count": 7,
   "metadata": {},
   "outputs": [
    {
     "name": "stdout",
     "output_type": "stream",
     "text": [
      "The 200 ml of Coca Cola you've had contains: 84.0 calories, 0.0 grams of fat, 21.2 gram carbs, and 21.2 grams of sugar. \n"
     ]
    }
   ],
   "source": [
    "sugarnew = sugar / 100 * int(ml)\n",
    "print(\"The \" + ml + \" ml of Coca Cola you've had contains: \" + str(caloriesnew) + \" calories, \" + str(fatnew) + \" grams of fat, \" + str(carbsnew) + \" gram carbs, and \" + str(sugarnew) + \" grams of sugar. \"   )"
   ]
  },
  {
   "cell_type": "code",
   "execution_count": null,
   "metadata": {},
   "outputs": [],
   "source": []
  }
 ],
 "metadata": {
  "kernelspec": {
   "display_name": "Python 3",
   "language": "python",
   "name": "python3"
  },
  "language_info": {
   "codemirror_mode": {
    "name": "ipython",
    "version": 3
   },
   "file_extension": ".py",
   "mimetype": "text/x-python",
   "name": "python",
   "nbconvert_exporter": "python",
   "pygments_lexer": "ipython3",
   "version": "3.6.5"
  }
 },
 "nbformat": 4,
 "nbformat_minor": 2
}
